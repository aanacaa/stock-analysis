{
  "nbformat": 4,
  "nbformat_minor": 0,
  "metadata": {
    "colab": {
      "name": "Analise de Ações",
      "provenance": [],
      "toc_visible": true,
      "authorship_tag": "ABX9TyMoLc+gAs4SaWbhSyg+RCxq",
      "include_colab_link": true
    },
    "kernelspec": {
      "name": "python3",
      "display_name": "Python 3"
    }
  },
  "cells": [
    {
      "cell_type": "markdown",
      "metadata": {
        "id": "view-in-github",
        "colab_type": "text"
      },
      "source": [
        "<a href=\"https://colab.research.google.com/github/aanacaa/stock-analysis/blob/master/Analise_de_A%C3%A7%C3%B5es.ipynb\" target=\"_parent\"><img src=\"https://colab.research.google.com/assets/colab-badge.svg\" alt=\"Open In Colab\"/></a>"
      ]
    },
    {
      "cell_type": "code",
      "metadata": {
        "id": "uaEiEebvT-sQ"
      },
      "source": [
        "%matplotlib inline\n",
        "import pandas as pd\n",
        "import numpy as np\n",
        "import matplotlib.pyplot as plt\n",
        "\n",
        "from sklearn.preprocessing import MinMaxScaler\n",
        "from keras.layers import SimpleRNN\n",
        "from keras.models import Sequential\n",
        "from numpy.random import seed\n"
      ],
      "execution_count": null,
      "outputs": []
    },
    {
      "cell_type": "code",
      "metadata": {
        "id": "rb-QuwQFUPbx"
      },
      "source": [
        "seed(42)\n",
        "plt.rcParams['figure.figsize'] = 16,4"
      ],
      "execution_count": null,
      "outputs": []
    },
    {
      "cell_type": "code",
      "metadata": {
        "id": "PRePpEsQUSDP"
      },
      "source": [
        "SPLIT_DATE = '2015/01/01'\n",
        "WINDOW_SIZE = 30"
      ],
      "execution_count": null,
      "outputs": []
    },
    {
      "cell_type": "code",
      "metadata": {
        "id": "0XVMzJjEUeUF",
        "outputId": "8915139a-2f61-4f5a-d5f1-a2862d4d2f2d",
        "colab": {
          "base_uri": "https://localhost:8080/",
          "height": 34
        }
      },
      "source": [
        "from google.colab import drive\n",
        "drive.mount('/content/drive/')"
      ],
      "execution_count": null,
      "outputs": [
        {
          "output_type": "stream",
          "text": [
            "Drive already mounted at /content/drive/; to attempt to forcibly remount, call drive.mount(\"/content/drive/\", force_remount=True).\n"
          ],
          "name": "stdout"
        }
      ]
    },
    {
      "cell_type": "code",
      "metadata": {
        "id": "GtiHlZVNUqez"
      },
      "source": [
        "df = pd.read_csv('/content/drive/My Drive/Colab Notebooks/Analise/IBM_2006-01-01_to_2018-01-01.csv', index_col='Date')\n",
        "df = df.dropna() #limpar o nan"
      ],
      "execution_count": null,
      "outputs": []
    },
    {
      "cell_type": "code",
      "metadata": {
        "id": "j_PTCILJVLOT",
        "outputId": "f01edfe6-3406-47cc-9811-23395944fedb",
        "colab": {
          "base_uri": "https://localhost:8080/",
          "height": 225
        }
      },
      "source": [
        "df.head()#se deixar sem indice ele cria 1,2,3... no head colocar o numero de linhas que deseja ver"
      ],
      "execution_count": null,
      "outputs": [
        {
          "output_type": "execute_result",
          "data": {
            "text/html": [
              "<div>\n",
              "<style scoped>\n",
              "    .dataframe tbody tr th:only-of-type {\n",
              "        vertical-align: middle;\n",
              "    }\n",
              "\n",
              "    .dataframe tbody tr th {\n",
              "        vertical-align: top;\n",
              "    }\n",
              "\n",
              "    .dataframe thead th {\n",
              "        text-align: right;\n",
              "    }\n",
              "</style>\n",
              "<table border=\"1\" class=\"dataframe\">\n",
              "  <thead>\n",
              "    <tr style=\"text-align: right;\">\n",
              "      <th></th>\n",
              "      <th>Open</th>\n",
              "      <th>High</th>\n",
              "      <th>Low</th>\n",
              "      <th>Close</th>\n",
              "      <th>Volume</th>\n",
              "      <th>Name</th>\n",
              "    </tr>\n",
              "    <tr>\n",
              "      <th>Date</th>\n",
              "      <th></th>\n",
              "      <th></th>\n",
              "      <th></th>\n",
              "      <th></th>\n",
              "      <th></th>\n",
              "      <th></th>\n",
              "    </tr>\n",
              "  </thead>\n",
              "  <tbody>\n",
              "    <tr>\n",
              "      <th>2006-01-03</th>\n",
              "      <td>82.45</td>\n",
              "      <td>82.55</td>\n",
              "      <td>80.81</td>\n",
              "      <td>82.06</td>\n",
              "      <td>11715200</td>\n",
              "      <td>IBM</td>\n",
              "    </tr>\n",
              "    <tr>\n",
              "      <th>2006-01-04</th>\n",
              "      <td>82.20</td>\n",
              "      <td>82.50</td>\n",
              "      <td>81.33</td>\n",
              "      <td>81.95</td>\n",
              "      <td>9840600</td>\n",
              "      <td>IBM</td>\n",
              "    </tr>\n",
              "    <tr>\n",
              "      <th>2006-01-05</th>\n",
              "      <td>81.40</td>\n",
              "      <td>82.90</td>\n",
              "      <td>81.00</td>\n",
              "      <td>82.50</td>\n",
              "      <td>7213500</td>\n",
              "      <td>IBM</td>\n",
              "    </tr>\n",
              "    <tr>\n",
              "      <th>2006-01-06</th>\n",
              "      <td>83.95</td>\n",
              "      <td>85.03</td>\n",
              "      <td>83.41</td>\n",
              "      <td>84.95</td>\n",
              "      <td>8197400</td>\n",
              "      <td>IBM</td>\n",
              "    </tr>\n",
              "    <tr>\n",
              "      <th>2006-01-09</th>\n",
              "      <td>84.10</td>\n",
              "      <td>84.25</td>\n",
              "      <td>83.38</td>\n",
              "      <td>83.73</td>\n",
              "      <td>6858200</td>\n",
              "      <td>IBM</td>\n",
              "    </tr>\n",
              "  </tbody>\n",
              "</table>\n",
              "</div>"
            ],
            "text/plain": [
              "             Open   High    Low  Close    Volume Name\n",
              "Date                                                 \n",
              "2006-01-03  82.45  82.55  80.81  82.06  11715200  IBM\n",
              "2006-01-04  82.20  82.50  81.33  81.95   9840600  IBM\n",
              "2006-01-05  81.40  82.90  81.00  82.50   7213500  IBM\n",
              "2006-01-06  83.95  85.03  83.41  84.95   8197400  IBM\n",
              "2006-01-09  84.10  84.25  83.38  83.73   6858200  IBM"
            ]
          },
          "metadata": {
            "tags": []
          },
          "execution_count": 39
        }
      ]
    },
    {
      "cell_type": "code",
      "metadata": {
        "id": "fOLO47wsVOCU"
      },
      "source": [
        "df['Average'] = (df['High'] + df['Low']) /2"
      ],
      "execution_count": null,
      "outputs": []
    },
    {
      "cell_type": "code",
      "metadata": {
        "id": "gWUpRComVQyQ",
        "outputId": "0ca53488-bd7b-4133-de86-ca830f7080ee",
        "colab": {
          "base_uri": "https://localhost:8080/",
          "height": 225
        }
      },
      "source": [
        "df.head()"
      ],
      "execution_count": null,
      "outputs": [
        {
          "output_type": "execute_result",
          "data": {
            "text/html": [
              "<div>\n",
              "<style scoped>\n",
              "    .dataframe tbody tr th:only-of-type {\n",
              "        vertical-align: middle;\n",
              "    }\n",
              "\n",
              "    .dataframe tbody tr th {\n",
              "        vertical-align: top;\n",
              "    }\n",
              "\n",
              "    .dataframe thead th {\n",
              "        text-align: right;\n",
              "    }\n",
              "</style>\n",
              "<table border=\"1\" class=\"dataframe\">\n",
              "  <thead>\n",
              "    <tr style=\"text-align: right;\">\n",
              "      <th></th>\n",
              "      <th>Open</th>\n",
              "      <th>High</th>\n",
              "      <th>Low</th>\n",
              "      <th>Close</th>\n",
              "      <th>Volume</th>\n",
              "      <th>Name</th>\n",
              "      <th>Average</th>\n",
              "    </tr>\n",
              "    <tr>\n",
              "      <th>Date</th>\n",
              "      <th></th>\n",
              "      <th></th>\n",
              "      <th></th>\n",
              "      <th></th>\n",
              "      <th></th>\n",
              "      <th></th>\n",
              "      <th></th>\n",
              "    </tr>\n",
              "  </thead>\n",
              "  <tbody>\n",
              "    <tr>\n",
              "      <th>2006-01-03</th>\n",
              "      <td>82.45</td>\n",
              "      <td>82.55</td>\n",
              "      <td>80.81</td>\n",
              "      <td>82.06</td>\n",
              "      <td>11715200</td>\n",
              "      <td>IBM</td>\n",
              "      <td>81.680</td>\n",
              "    </tr>\n",
              "    <tr>\n",
              "      <th>2006-01-04</th>\n",
              "      <td>82.20</td>\n",
              "      <td>82.50</td>\n",
              "      <td>81.33</td>\n",
              "      <td>81.95</td>\n",
              "      <td>9840600</td>\n",
              "      <td>IBM</td>\n",
              "      <td>81.915</td>\n",
              "    </tr>\n",
              "    <tr>\n",
              "      <th>2006-01-05</th>\n",
              "      <td>81.40</td>\n",
              "      <td>82.90</td>\n",
              "      <td>81.00</td>\n",
              "      <td>82.50</td>\n",
              "      <td>7213500</td>\n",
              "      <td>IBM</td>\n",
              "      <td>81.950</td>\n",
              "    </tr>\n",
              "    <tr>\n",
              "      <th>2006-01-06</th>\n",
              "      <td>83.95</td>\n",
              "      <td>85.03</td>\n",
              "      <td>83.41</td>\n",
              "      <td>84.95</td>\n",
              "      <td>8197400</td>\n",
              "      <td>IBM</td>\n",
              "      <td>84.220</td>\n",
              "    </tr>\n",
              "    <tr>\n",
              "      <th>2006-01-09</th>\n",
              "      <td>84.10</td>\n",
              "      <td>84.25</td>\n",
              "      <td>83.38</td>\n",
              "      <td>83.73</td>\n",
              "      <td>6858200</td>\n",
              "      <td>IBM</td>\n",
              "      <td>83.815</td>\n",
              "    </tr>\n",
              "  </tbody>\n",
              "</table>\n",
              "</div>"
            ],
            "text/plain": [
              "             Open   High    Low  Close    Volume Name  Average\n",
              "Date                                                          \n",
              "2006-01-03  82.45  82.55  80.81  82.06  11715200  IBM   81.680\n",
              "2006-01-04  82.20  82.50  81.33  81.95   9840600  IBM   81.915\n",
              "2006-01-05  81.40  82.90  81.00  82.50   7213500  IBM   81.950\n",
              "2006-01-06  83.95  85.03  83.41  84.95   8197400  IBM   84.220\n",
              "2006-01-09  84.10  84.25  83.38  83.73   6858200  IBM   83.815"
            ]
          },
          "metadata": {
            "tags": []
          },
          "execution_count": 41
        }
      ]
    },
    {
      "cell_type": "code",
      "metadata": {
        "id": "DQad59AsVQ2F"
      },
      "source": [
        "df = df[['Average']] # com 2 [] é dataframedf = df['Average'] = series"
      ],
      "execution_count": null,
      "outputs": []
    },
    {
      "cell_type": "code",
      "metadata": {
        "id": "RNQ2bDwsVRAl",
        "outputId": "1adae0c4-610e-4da3-9583-90b6b50cf329",
        "colab": {
          "base_uri": "https://localhost:8080/",
          "height": 298
        }
      },
      "source": [
        "df.plot(legend=True)"
      ],
      "execution_count": null,
      "outputs": [
        {
          "output_type": "execute_result",
          "data": {
            "text/plain": [
              "<matplotlib.axes._subplots.AxesSubplot at 0x7fd6c70f0a20>"
            ]
          },
          "metadata": {
            "tags": []
          },
          "execution_count": 43
        },
        {
          "output_type": "display_data",
          "data": {
            "image/png": "[encoded data removed]",
            "text/plain": [
              "<Figure size 1152x288 with 1 Axes>"
            ]
          },
          "metadata": {
            "tags": [],
            "needs_background": "light"
          }
        }
      ]
    },
    {
      "cell_type": "code",
      "metadata": {
        "id": "rrF9LCXTVRFY"
      },
      "source": [
        "df_train = df[df.index < SPLIT_DATE].copy()\n",
        "df_test = df[df.index >= SPLIT_DATE].copy()"
      ],
      "execution_count": null,
      "outputs": []
    },
    {
      "cell_type": "code",
      "metadata": {
        "id": "yQWYWMRMVRKv"
      },
      "source": [
        "scaler = MinMaxScaler()\n",
        "df_train['Average'] = scaler.fit_transform(df_train['Average'].values.reshape(-1,1))"
      ],
      "execution_count": null,
      "outputs": []
    },
    {
      "cell_type": "code",
      "metadata": {
        "id": "xMOGCJoUVbuF"
      },
      "source": [
        "#df_train['Average'].values.reshape(-1,1) #shapes"
      ],
      "execution_count": null,
      "outputs": []
    },
    {
      "cell_type": "code",
      "metadata": {
        "id": "vHhAGOAWVRIL"
      },
      "source": [
        "df_test['Average'] = scaler.transform(df_test['Average'].values.reshape(-1,1))"
      ],
      "execution_count": null,
      "outputs": []
    },
    {
      "cell_type": "code",
      "metadata": {
        "id": "0Ol3bVSNVRDN",
        "outputId": "2065e859-f87c-490d-ae7c-77ca0e7aae12",
        "colab": {
          "base_uri": "https://localhost:8080/",
          "height": 34
        }
      },
      "source": [
        "df_test.min().values, df_test.max().values"
      ],
      "execution_count": null,
      "outputs": [
        {
          "output_type": "execute_result",
          "data": {
            "text/plain": [
              "(array([0.31758567]), array([0.7656889]))"
            ]
          },
          "metadata": {
            "tags": []
          },
          "execution_count": 48
        }
      ]
    },
    {
      "cell_type": "code",
      "metadata": {
        "id": "qcPCcT1lVf1D",
        "outputId": "671f67f0-fb4b-4ba2-d117-b836dbfdd603",
        "colab": {
          "base_uri": "https://localhost:8080/",
          "height": 34
        }
      },
      "source": [
        "print(df_train.min().values, df_train.max().values)"
      ],
      "execution_count": null,
      "outputs": [
        {
          "output_type": "stream",
          "text": [
            "[0.] [1.]\n"
          ],
          "name": "stdout"
        }
      ]
    },
    {
      "cell_type": "code",
      "metadata": {
        "id": "nTQDouMpVhXj"
      },
      "source": [
        "def gen_rnn_inputs(df, window_size):\n",
        "    X, y = [], []\n",
        "    \n",
        "    averages = df['Average'].values\n",
        "    \n",
        "    for i in range(window_size, len(df)):\n",
        "        \n",
        "        X.append(averages[i-window_size:i])\n",
        "        y.append(averages[i])\n",
        "        \n",
        "    return np.array(X), np.array(y)"
      ],
      "execution_count": null,
      "outputs": []
    },
    {
      "cell_type": "code",
      "metadata": {
        "id": "KZLlVIolVinm",
        "outputId": "e9ae84f4-0993-4a9f-afbf-d40ebbd99418",
        "colab": {
          "base_uri": "https://localhost:8080/",
          "height": 34
        }
      },
      "source": [
        "len(df_test)"
      ],
      "execution_count": null,
      "outputs": [
        {
          "output_type": "execute_result",
          "data": {
            "text/plain": [
              "502"
            ]
          },
          "metadata": {
            "tags": []
          },
          "execution_count": 51
        }
      ]
    },
    {
      "cell_type": "code",
      "metadata": {
        "id": "fFNYAiSkVjw6"
      },
      "source": [
        "X_train, y_train = gen_rnn_inputs(df_test, WINDOW_SIZE)\n",
        "X_test, y_test = gen_rnn_inputs(df_test, WINDOW_SIZE)"
      ],
      "execution_count": null,
      "outputs": []
    },
    {
      "cell_type": "code",
      "metadata": {
        "id": "DEfByIXAVk_x",
        "outputId": "cad2cb13-8b60-4fe0-de22-90d10c96ec67",
        "colab": {
          "base_uri": "https://localhost:8080/",
          "height": 193
        }
      },
      "source": [
        "model = Sequential ()\n",
        "model.add(SimpleRNN(1, input_shape = (WINDOW_SIZE,1)))\n",
        "\n",
        "model.compile(optimizer='adam', loss='mean_squared_error')\n",
        "\n",
        "model.summary()"
      ],
      "execution_count": null,
      "outputs": [
        {
          "output_type": "stream",
          "text": [
            "Model: \"sequential_1\"\n",
            "_________________________________________________________________\n",
            "Layer (type)                 Output Shape              Param #   \n",
            "=================================================================\n",
            "simple_rnn_1 (SimpleRNN)     (None, 1)                 3         \n",
            "=================================================================\n",
            "Total params: 3\n",
            "Trainable params: 3\n",
            "Non-trainable params: 0\n",
            "_________________________________________________________________\n"
          ],
          "name": "stdout"
        }
      ]
    },
    {
      "cell_type": "code",
      "metadata": {
        "id": "JhMN2ZK5VncY",
        "outputId": "4525fafc-d8e9-4515-9c1f-c0b78b061ef4",
        "colab": {
          "base_uri": "https://localhost:8080/",
          "height": 1000
        }
      },
      "source": [
        "y_train"
      ],
      "execution_count": null,
      "outputs": [
        {
          "output_type": "execute_result",
          "data": {
            "text/plain": [
              "array([0.36433507, 0.41344662, 0.41605556, 0.42391764, 0.41933437,\n",
              "       0.41140178, 0.4192286 , 0.42444648, 0.41524468, 0.42374136,\n",
              "       0.43780849, 0.44968975, 0.45818643, 0.46150049, 0.46287548,\n",
              "       0.47567339, 0.46918629, 0.48283035, 0.48565082, 0.48790721,\n",
              "       0.49538147, 0.51223382, 0.51664081, 0.5251375 , 0.53109576,\n",
              "       0.5171344 , 0.51554788, 0.52672402, 0.53158934, 0.53677196,\n",
              "       0.54992244, 0.55256663, 0.56039346, 0.54565647, 0.53405726,\n",
              "       0.53278804, 0.5345861 , 0.54537442, 0.53663094, 0.54428148,\n",
              "       0.55231984, 0.55203779, 0.55757298, 0.50444225, 0.51022423,\n",
              "       0.52919193, 0.53596108, 0.52718234, 0.53310534, 0.54036807,\n",
              "       0.53032012, 0.51138767, 0.51103511, 0.4982372 , 0.50003526,\n",
              "       0.5156889 , 0.51459597, 0.52436187, 0.53342265, 0.54065012,\n",
              "       0.52890989, 0.53165985, 0.53218869, 0.52993231, 0.52319842,\n",
              "       0.50913129, 0.51678184, 0.52224651, 0.52584262, 0.54332957,\n",
              "       0.55380059, 0.5591595 , 0.56268509, 0.55820759, 0.56106332,\n",
              "       0.5579608 , 0.56342547, 0.56448315, 0.56638697, 0.56413059,\n",
              "       0.55954731, 0.55105063, 0.54897053, 0.54967565, 0.54230715,\n",
              "       0.55295445, 0.56659851, 0.57037089, 0.56585813, 0.56973629,\n",
              "       0.52993231, 0.50282048, 0.50581723, 0.5233747 , 0.54329432,\n",
              "       0.55665632, 0.55098012, 0.54946411, 0.5609223 , 0.56832605,\n",
              "       0.57840925, 0.585813  , 0.59554365, 0.61169088, 0.60640248,\n",
              "       0.60992808, 0.61186716, 0.61637992, 0.61789592, 0.62110422,\n",
              "       0.6280849 , 0.6292836 , 0.62498237, 0.62064589, 0.6177549 ,\n",
              "       0.61701453, 0.61814272, 0.61408828, 0.61817797, 0.62967141,\n",
              "       0.62886053, 0.62730927, 0.62804964, 0.63689889, 0.62931885,\n",
              "       0.62850797, 0.62099845, 0.61528698, 0.62036384, 0.61327739,\n",
              "       0.61070371, 0.61729657, 0.60647299, 0.60456917, 0.60573262,\n",
              "       0.60721337, 0.60809477, 0.60442815, 0.60372303, 0.61077422,\n",
              "       0.61165562, 0.61796644, 0.61165562, 0.59078409, 0.58838669,\n",
              "       0.58859822, 0.57389649, 0.57488366, 0.57252151, 0.57911437,\n",
              "       0.58010154, 0.57491891, 0.58676491, 0.57914963, 0.56917219,\n",
              "       0.57855027, 0.59360457, 0.62043435, 0.60435764, 0.59550839,\n",
              "       0.59184177, 0.59254689, 0.58821041, 0.58553095, 0.59466225,\n",
              "       0.57946693, 0.56963052, 0.56413059, 0.5751657 , 0.57731632,\n",
              "       0.5369835 , 0.55281343, 0.55506981, 0.54375264, 0.54801862,\n",
              "       0.54473981, 0.55253138, 0.56268509, 0.56458892, 0.56624595,\n",
              "       0.56116909, 0.55891271, 0.56078127, 0.5606755 , 0.57632915,\n",
              "       0.57294458, 0.56437738, 0.60735439, 0.61412354, 0.60978705,\n",
              "       0.60012692, 0.60322945, 0.60746016, 0.6115146 , 0.62364265,\n",
              "       0.62921309, 0.62494712, 0.62945988, 0.63770977, 0.63799182,\n",
              "       0.63295022, 0.61352419, 0.60717811, 0.61437033, 0.61077422,\n",
              "       0.63139896, 0.64779298, 0.65167113, 0.65357495, 0.66686645,\n",
              "       0.67289522, 0.67391764, 0.66524468, 0.65851079, 0.66358765,\n",
              "       0.658264  , 0.66397546, 0.66090819, 0.66404597, 0.66020307,\n",
              "       0.65755888, 0.65477366, 0.66069666, 0.6725074 , 0.67046256,\n",
              "       0.67324778, 0.67317727, 0.65911014, 0.65886335, 0.65960372,\n",
              "       0.66591454, 0.66217741, 0.66563249, 0.65847553, 0.6704273 ,\n",
              "       0.68671555, 0.70751657, 0.73649697, 0.74005782, 0.74044564,\n",
              "       0.7233465 , 0.71467353, 0.71255817, 0.71231138, 0.72186575,\n",
              "       0.71879848, 0.73346496, 0.72944578, 0.73060922, 0.73737837,\n",
              "       0.74834297, 0.74742632, 0.7588845 , 0.7656889 , 0.75832041,\n",
              "       0.75246792, 0.75782682, 0.76484276, 0.75765054, 0.75465379,\n",
              "       0.75271471, 0.76188126, 0.76092935, 0.75659286, 0.75475955,\n",
              "       0.75803836, 0.75366662, 0.73561557, 0.74189113, 0.73332393,\n",
              "       0.72468622, 0.72116063, 0.73804823, 0.72613172, 0.72218305,\n",
              "       0.71777605, 0.70998449, 0.71481455, 0.71361585, 0.70430828,\n",
              "       0.71047807, 0.71030179, 0.71146524, 0.71273445, 0.71135947,\n",
              "       0.7112537 , 0.71449725, 0.70243971, 0.69711606, 0.69482443,\n",
              "       0.68301368, 0.68657453, 0.68541108, 0.68551685, 0.68763221,\n",
              "       0.61965872, 0.62198562, 0.62054012, 0.61877732, 0.62029333,\n",
              "       0.61525173, 0.6121492 , 0.61278381, 0.60865886, 0.60516852,\n",
              "       0.60460443, 0.6029474 , 0.5722042 , 0.5612396 , 0.55767875,\n",
              "       0.55358906, 0.54456353, 0.54569172, 0.54928783, 0.56116909,\n",
              "       0.55898322, 0.54632633, 0.55306022, 0.55690312, 0.56099281,\n",
              "       0.5553166 , 0.56480045, 0.55908899, 0.55626851, 0.55693837,\n",
              "       0.55711465, 0.55887745, 0.55750247, 0.55848963, 0.55887745,\n",
              "       0.5544352 , 0.56289663, 0.58080666, 0.57520096, 0.56903117,\n",
              "       0.56938373, 0.57082922, 0.57791567, 0.57523621, 0.57361444,\n",
              "       0.57185164, 0.57114652, 0.57784516, 0.57594133, 0.57766888,\n",
              "       0.57424905, 0.56818502, 0.57488366, 0.57481314, 0.56261458,\n",
              "       0.56109858, 0.56423636, 0.56134537, 0.56695106, 0.56726837,\n",
              "       0.56952475, 0.56282612, 0.56342547, 0.53053166, 0.5266535 ,\n",
              "       0.52143562, 0.51600621, 0.51840361, 0.50927232, 0.50260894,\n",
              "       0.50204485, 0.5073685 , 0.50426597, 0.50518263, 0.50525314,\n",
              "       0.49837823, 0.48751939, 0.48208997, 0.48360598, 0.48522775,\n",
              "       0.48730786, 0.48455789, 0.48667325, 0.48339444, 0.47331124,\n",
              "       0.46915104, 0.47613172, 0.48388803, 0.49164434, 0.49696799,\n",
              "       0.49524045, 0.48949372, 0.49079819, 0.49291355, 0.49710901,\n",
              "       0.49562826, 0.49883655, 0.49559301, 0.48762516, 0.4994359 ,\n",
              "       0.50909604, 0.51174023, 0.51265689, 0.50334932, 0.50511211,\n",
              "       0.50317304, 0.50705119, 0.50948385, 0.50662812, 0.50930757,\n",
              "       0.51783951, 0.51279791, 0.5062403 , 0.50814413, 0.5132915 ,\n",
              "       0.51847412, 0.51702863, 0.52016641, 0.51716965, 0.52058948,\n",
              "       0.52926245, 0.52883937, 0.52242279, 0.52288112, 0.5207305 ,\n",
              "       0.51762798, 0.6053448 , 0.61190241, 0.61969398, 0.61898886,\n",
              "       0.59367508, 0.57449584, 0.57178113, 0.56783246, 0.56698632,\n",
              "       0.56896065, 0.57202792, 0.56733888, 0.55873643, 0.54865322,\n",
              "       0.54833592, 0.54854745, 0.54710196, 0.54135524, 0.53039064,\n",
              "       0.52876886, 0.52330419, 0.53120152, 0.53765336, 0.54777182,\n",
              "       0.5541179 , 0.55436469, 0.55369482, 0.55573967, 0.55757298,\n",
              "       0.56162742, 0.56765618, 0.56920745, 0.58309829, 0.58151178,\n",
              "       0.57759836, 0.56843181, 0.57149908, 0.5781272 , 0.58711747,\n",
              "       0.5786913 , 0.57230997, 0.56180369, 0.56730362, 0.5668453 ,\n",
              "       0.5647652 , 0.55870117, 0.55711465, 0.56367226, 0.56166267,\n",
              "       0.56705683, 0.56994782])"
            ]
          },
          "metadata": {
            "tags": []
          },
          "execution_count": 54
        }
      ]
    },
    {
      "cell_type": "code",
      "metadata": {
        "id": "-x4HnLsGVpoK",
        "outputId": "8097c798-d4d5-4b1f-d701-b04b8516e67c",
        "colab": {
          "base_uri": "https://localhost:8080/",
          "height": 1000
        }
      },
      "source": [
        "model.fit(np.expand_dims(X_train,axis = -1), y_train, epochs = 50, batch_size=8, verbose=2)"
      ],
      "execution_count": null,
      "outputs": [
        {
          "output_type": "stream",
          "text": [
            "Epoch 1/50\n",
            "59/59 - 0s - loss: 0.0627\n",
            "Epoch 2/50\n",
            "59/59 - 0s - loss: 0.0274\n",
            "Epoch 3/50\n",
            "59/59 - 0s - loss: 0.0036\n",
            "Epoch 4/50\n",
            "59/59 - 0s - loss: 6.4804e-04\n",
            "Epoch 5/50\n",
            "59/59 - 0s - loss: 6.2957e-04\n",
            "Epoch 6/50\n",
            "59/59 - 0s - loss: 6.2678e-04\n",
            "Epoch 7/50\n",
            "59/59 - 0s - loss: 6.2280e-04\n",
            "Epoch 8/50\n",
            "59/59 - 0s - loss: 6.2230e-04\n",
            "Epoch 9/50\n",
            "59/59 - 0s - loss: 6.1433e-04\n",
            "Epoch 10/50\n",
            "59/59 - 0s - loss: 6.0965e-04\n",
            "Epoch 11/50\n",
            "59/59 - 0s - loss: 6.0470e-04\n",
            "Epoch 12/50\n",
            "59/59 - 0s - loss: 6.0233e-04\n",
            "Epoch 13/50\n",
            "59/59 - 0s - loss: 6.0528e-04\n",
            "Epoch 14/50\n",
            "59/59 - 0s - loss: 5.9486e-04\n",
            "Epoch 15/50\n",
            "59/59 - 0s - loss: 5.9293e-04\n",
            "Epoch 16/50\n",
            "59/59 - 0s - loss: 5.9893e-04\n",
            "Epoch 17/50\n",
            "59/59 - 0s - loss: 6.0205e-04\n",
            "Epoch 18/50\n",
            "59/59 - 0s - loss: 5.8677e-04\n",
            "Epoch 19/50\n",
            "59/59 - 0s - loss: 5.8776e-04\n",
            "Epoch 20/50\n",
            "59/59 - 0s - loss: 5.8377e-04\n",
            "Epoch 21/50\n",
            "59/59 - 0s - loss: 5.8462e-04\n",
            "Epoch 22/50\n",
            "59/59 - 0s - loss: 5.7443e-04\n",
            "Epoch 23/50\n",
            "59/59 - 0s - loss: 5.8023e-04\n",
            "Epoch 24/50\n",
            "59/59 - 0s - loss: 5.7815e-04\n",
            "Epoch 25/50\n",
            "59/59 - 0s - loss: 5.7443e-04\n",
            "Epoch 26/50\n",
            "59/59 - 0s - loss: 5.7032e-04\n",
            "Epoch 27/50\n",
            "59/59 - 0s - loss: 5.6736e-04\n",
            "Epoch 28/50\n",
            "59/59 - 0s - loss: 5.6995e-04\n",
            "Epoch 29/50\n",
            "59/59 - 0s - loss: 5.6707e-04\n",
            "Epoch 30/50\n",
            "59/59 - 0s - loss: 5.6126e-04\n",
            "Epoch 31/50\n",
            "59/59 - 0s - loss: 5.6774e-04\n",
            "Epoch 32/50\n",
            "59/59 - 0s - loss: 5.5415e-04\n",
            "Epoch 33/50\n",
            "59/59 - 0s - loss: 5.6277e-04\n",
            "Epoch 34/50\n",
            "59/59 - 0s - loss: 5.5633e-04\n",
            "Epoch 35/50\n",
            "59/59 - 0s - loss: 5.4897e-04\n",
            "Epoch 36/50\n",
            "59/59 - 0s - loss: 5.4634e-04\n",
            "Epoch 37/50\n",
            "59/59 - 0s - loss: 5.5406e-04\n",
            "Epoch 38/50\n",
            "59/59 - 0s - loss: 5.4369e-04\n",
            "Epoch 39/50\n",
            "59/59 - 0s - loss: 5.5079e-04\n",
            "Epoch 40/50\n",
            "59/59 - 0s - loss: 5.5576e-04\n",
            "Epoch 41/50\n",
            "59/59 - 0s - loss: 5.4722e-04\n",
            "Epoch 42/50\n",
            "59/59 - 0s - loss: 5.4866e-04\n",
            "Epoch 43/50\n",
            "59/59 - 0s - loss: 5.3963e-04\n",
            "Epoch 44/50\n",
            "59/59 - 0s - loss: 5.3112e-04\n",
            "Epoch 45/50\n",
            "59/59 - 0s - loss: 5.3823e-04\n",
            "Epoch 46/50\n",
            "59/59 - 0s - loss: 5.5192e-04\n",
            "Epoch 47/50\n",
            "59/59 - 0s - loss: 5.3408e-04\n",
            "Epoch 48/50\n",
            "59/59 - 0s - loss: 5.3275e-04\n",
            "Epoch 49/50\n",
            "59/59 - 0s - loss: 5.2412e-04\n",
            "Epoch 50/50\n",
            "59/59 - 0s - loss: 5.2928e-04\n"
          ],
          "name": "stdout"
        },
        {
          "output_type": "execute_result",
          "data": {
            "text/plain": [
              "<tensorflow.python.keras.callbacks.History at 0x7fd6c66fb828>"
            ]
          },
          "metadata": {
            "tags": []
          },
          "execution_count": 55
        }
      ]
    },
    {
      "cell_type": "code",
      "metadata": {
        "id": "Bxo3Xf4TVs3m"
      },
      "source": [
        "y_pred = model.predict(np.expand_dims(X_test, axis = -1))"
      ],
      "execution_count": null,
      "outputs": []
    },
    {
      "cell_type": "code",
      "metadata": {
        "id": "Aw1WuelHVxXX",
        "outputId": "b352e95d-9a2e-4d2f-ea33-440d9b9a7ddc",
        "colab": {
          "base_uri": "https://localhost:8080/",
          "height": 545
        }
      },
      "source": [
        "np.zeros(WINDOW_SIZE).tolist()"
      ],
      "execution_count": null,
      "outputs": [
        {
          "output_type": "execute_result",
          "data": {
            "text/plain": [
              "[0.0,\n",
              " 0.0,\n",
              " 0.0,\n",
              " 0.0,\n",
              " 0.0,\n",
              " 0.0,\n",
              " 0.0,\n",
              " 0.0,\n",
              " 0.0,\n",
              " 0.0,\n",
              " 0.0,\n",
              " 0.0,\n",
              " 0.0,\n",
              " 0.0,\n",
              " 0.0,\n",
              " 0.0,\n",
              " 0.0,\n",
              " 0.0,\n",
              " 0.0,\n",
              " 0.0,\n",
              " 0.0,\n",
              " 0.0,\n",
              " 0.0,\n",
              " 0.0,\n",
              " 0.0,\n",
              " 0.0,\n",
              " 0.0,\n",
              " 0.0,\n",
              " 0.0,\n",
              " 0.0]"
            ]
          },
          "metadata": {
            "tags": []
          },
          "execution_count": 57
        }
      ]
    },
    {
      "cell_type": "code",
      "metadata": {
        "id": "GduCgF6oV0W7"
      },
      "source": [
        "df_test_preds = df_test.copy()\n",
        "df_test_preds ['Average'] = np.zeros(WINDOW_SIZE).tolist() +\\\n",
        "    scaler.inverse_transform(y_test.reshape(-1, 1)).squeeze().tolist()\n",
        "\n",
        "df_test_preds ['Pred'] = np.zeros(WINDOW_SIZE).tolist() +\\\n",
        "    scaler.inverse_transform(y_pred.reshape(-1, 1)).squeeze().tolist()\n"
      ],
      "execution_count": null,
      "outputs": []
    },
    {
      "cell_type": "code",
      "metadata": {
        "id": "j66L8dqVV2B4",
        "outputId": "e1bac1d3-895b-444a-8b05-cbbf05a6c774",
        "colab": {
          "base_uri": "https://localhost:8080/",
          "height": 297
        }
      },
      "source": [
        "df_test_preds.plot(legend=True)"
      ],
      "execution_count": null,
      "outputs": [
        {
          "output_type": "execute_result",
          "data": {
            "text/plain": [
              "<matplotlib.axes._subplots.AxesSubplot at 0x7fd6c5d6f588>"
            ]
          },
          "metadata": {
            "tags": []
          },
          "execution_count": 59
        },
        {
          "output_type": "display_data",
          "data": {
            "image/png": "[encoded data removed]",
            "text/plain": [
              "<Figure size 1152x288 with 1 Axes>"
            ]
          },
          "metadata": {
            "tags": [],
            "needs_background": "light"
          }
        }
      ]
    }
  ]
}